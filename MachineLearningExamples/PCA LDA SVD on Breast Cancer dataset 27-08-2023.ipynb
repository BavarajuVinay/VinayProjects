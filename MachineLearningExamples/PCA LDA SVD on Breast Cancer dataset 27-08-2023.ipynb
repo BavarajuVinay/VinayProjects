{
 "cells": [
  {
   "cell_type": "markdown",
   "id": "2ca96815",
   "metadata": {},
   "source": [
    "# PCA , SVD , LDA on Breast Cancer Dataset"
   ]
  },
  {
   "cell_type": "code",
   "execution_count": 40,
   "id": "7a79f578",
   "metadata": {},
   "outputs": [
    {
     "name": "stdout",
     "output_type": "stream",
     "text": [
      "     mean_radius  mean_texture  mean_perimeter  mean_area  mean_smoothness  \\\n",
      "0          17.99         10.38          122.80     1001.0          0.11840   \n",
      "1          20.57         17.77          132.90     1326.0          0.08474   \n",
      "2          19.69         21.25          130.00     1203.0          0.10960   \n",
      "3          11.42         20.38           77.58      386.1          0.14250   \n",
      "4          20.29         14.34          135.10     1297.0          0.10030   \n",
      "..           ...           ...             ...        ...              ...   \n",
      "564        21.56         22.39          142.00     1479.0          0.11100   \n",
      "565        20.13         28.25          131.20     1261.0          0.09780   \n",
      "566        16.60         28.08          108.30      858.1          0.08455   \n",
      "567        20.60         29.33          140.10     1265.0          0.11780   \n",
      "568         7.76         24.54           47.92      181.0          0.05263   \n",
      "\n",
      "     diagnosis  \n",
      "0            0  \n",
      "1            0  \n",
      "2            0  \n",
      "3            0  \n",
      "4            0  \n",
      "..         ...  \n",
      "564          0  \n",
      "565          0  \n",
      "566          0  \n",
      "567          0  \n",
      "568          1  \n",
      "\n",
      "[569 rows x 6 columns]\n"
     ]
    }
   ],
   "source": [
    "import pandas as pd \n",
    "import numpy as np\n",
    "data = pd.read_csv(r\"C:\\Users\\B V N DURGA VINAY\\Downloads\\brca.csv\")\n",
    "print(data)"
   ]
  },
  {
   "cell_type": "code",
   "execution_count": 41,
   "id": "36122ac9",
   "metadata": {},
   "outputs": [
    {
     "data": {
      "text/plain": [
       "mean_radius        0\n",
       "mean_texture       0\n",
       "mean_perimeter     0\n",
       "mean_area          0\n",
       "mean_smoothness    0\n",
       "diagnosis          0\n",
       "dtype: int64"
      ]
     },
     "execution_count": 41,
     "metadata": {},
     "output_type": "execute_result"
    }
   ],
   "source": [
    "data.isna().sum()"
   ]
  },
  {
   "cell_type": "markdown",
   "id": "53f641af",
   "metadata": {},
   "source": [
    "# Standardizing the data"
   ]
  },
  {
   "cell_type": "code",
   "execution_count": 42,
   "id": "72a4246e",
   "metadata": {},
   "outputs": [
    {
     "name": "stdout",
     "output_type": "stream",
     "text": [
      "[[ 1.09706398 -2.07333501  1.26993369  0.9843749   1.56846633 -1.29767572]\n",
      " [ 1.82982061 -0.35363241  1.68595471  1.90870825 -0.82696245 -1.29767572]\n",
      " [ 1.57988811  0.45618695  1.56650313  1.55888363  0.94221044 -1.29767572]\n",
      " ...\n",
      " [ 0.70228425  2.0455738   0.67267578  0.57795264 -0.84048388 -1.29767572]\n",
      " [ 1.83834103  2.33645719  1.98252415  1.73521799  1.52576706 -1.29767572]\n",
      " [-1.80840125  1.22179204 -1.81438851 -1.34778924 -3.11208479  0.77060855]]\n"
     ]
    }
   ],
   "source": [
    "from sklearn.preprocessing import StandardScaler\n",
    "scaler = StandardScaler()\n",
    "sc = scaler.fit_transform(data)\n",
    "print(sc)"
   ]
  },
  {
   "cell_type": "code",
   "execution_count": 43,
   "id": "70909a15",
   "metadata": {},
   "outputs": [
    {
     "name": "stdout",
     "output_type": "stream",
     "text": [
      "(569, 5)\n",
      "(569,)\n"
     ]
    }
   ],
   "source": [
    "x = data.drop('diagnosis',axis=1)\n",
    "y = data['diagnosis']\n",
    "print(x.shape)\n",
    "print(y.shape)"
   ]
  },
  {
   "cell_type": "markdown",
   "id": "0b39d019",
   "metadata": {},
   "source": [
    "# Splitting the dataset into the Training set and Test set"
   ]
  },
  {
   "cell_type": "code",
   "execution_count": 44,
   "id": "8d123d25",
   "metadata": {},
   "outputs": [],
   "source": [
    "from sklearn.model_selection import train_test_split\n",
    "X_train, X_test, y_train, y_test = train_test_split(x, y, test_size=0.2, random_state=30)"
   ]
  },
  {
   "cell_type": "markdown",
   "id": "89092c00",
   "metadata": {},
   "source": [
    "# Building a Logistic Regression model"
   ]
  },
  {
   "cell_type": "code",
   "execution_count": 45,
   "id": "3611082f",
   "metadata": {},
   "outputs": [
    {
     "name": "stdout",
     "output_type": "stream",
     "text": [
      "accuracy score :- 0.8947368421052632\n",
      "recall score :- 0.8947368421052632\n",
      "specification:-  0.8181818181818182\n",
      "precision score:- 0.8947368421052632\n",
      "f1 score:- 0.8947368421052632\n",
      "kappa score:- 0.774108322324967\n"
     ]
    },
    {
     "name": "stderr",
     "output_type": "stream",
     "text": [
      "C:\\Users\\B V N DURGA VINAY\\anaconda3\\lib\\site-packages\\sklearn\\linear_model\\_logistic.py:814: ConvergenceWarning: lbfgs failed to converge (status=1):\n",
      "STOP: TOTAL NO. of ITERATIONS REACHED LIMIT.\n",
      "\n",
      "Increase the number of iterations (max_iter) or scale the data as shown in:\n",
      "    https://scikit-learn.org/stable/modules/preprocessing.html\n",
      "Please also refer to the documentation for alternative solver options:\n",
      "    https://scikit-learn.org/stable/modules/linear_model.html#logistic-regression\n",
      "  n_iter_i = _check_optimize_result(\n"
     ]
    }
   ],
   "source": [
    "from sklearn.linear_model import LogisticRegression\n",
    "from sklearn.metrics import confusion_matrix\n",
    "from sklearn.metrics import accuracy_score,precision_score,recall_score,f1_score\n",
    "from sklearn.metrics import cohen_kappa_score\n",
    "model = LogisticRegression()\n",
    "model.fit(X_train,y_train)\n",
    "y_pred = model.predict(X_test)\n",
    "cm = confusion_matrix(y_test,y_pred)\n",
    "spec = cm[0][0]/(cm[0][0]+cm[0][1])\n",
    "print('accuracy score :-',accuracy_score(y_test,y_pred))\n",
    "print('recall score :-',recall_score(y_test,y_pred,average=\"micro\"))\n",
    "print('specification:- ',spec)\n",
    "print('precision score:-',precision_score(y_test,y_pred,average=\"micro\"))\n",
    "print('f1 score:-',f1_score(y_test,y_pred,average=\"micro\"))\n",
    "print('kappa score:-',cohen_kappa_score(y_test,y_pred))"
   ]
  },
  {
   "cell_type": "markdown",
   "id": "d0e66000",
   "metadata": {},
   "source": [
    "# PCA"
   ]
  },
  {
   "cell_type": "code",
   "execution_count": 46,
   "id": "257c3f63",
   "metadata": {},
   "outputs": [],
   "source": [
    "from sklearn.decomposition import PCA\n",
    "pca = PCA(0.95)"
   ]
  },
  {
   "cell_type": "code",
   "execution_count": 47,
   "id": "3915114e",
   "metadata": {},
   "outputs": [],
   "source": [
    "x_pca = pca.fit_transform(x)\n",
    "x_pca_df=pd.DataFrame(x_pca)"
   ]
  },
  {
   "cell_type": "code",
   "execution_count": 48,
   "id": "5b51b836",
   "metadata": {},
   "outputs": [
    {
     "name": "stdout",
     "output_type": "stream",
     "text": [
      "Explained Variance Ratio:\n",
      " [0.99973765]\n"
     ]
    }
   ],
   "source": [
    "explained_variance_ratio = pca.explained_variance_ratio_\n",
    "print(\"Explained Variance Ratio:\\n\", explained_variance_ratio)"
   ]
  },
  {
   "cell_type": "code",
   "execution_count": 49,
   "id": "1b3c3c70",
   "metadata": {},
   "outputs": [
    {
     "data": {
      "text/html": [
       "<div>\n",
       "<style scoped>\n",
       "    .dataframe tbody tr th:only-of-type {\n",
       "        vertical-align: middle;\n",
       "    }\n",
       "\n",
       "    .dataframe tbody tr th {\n",
       "        vertical-align: top;\n",
       "    }\n",
       "\n",
       "    .dataframe thead th {\n",
       "        text-align: right;\n",
       "    }\n",
       "</style>\n",
       "<table border=\"1\" class=\"dataframe\">\n",
       "  <thead>\n",
       "    <tr style=\"text-align: right;\">\n",
       "      <th></th>\n",
       "      <th>0</th>\n",
       "      <th>diagnosis</th>\n",
       "    </tr>\n",
       "  </thead>\n",
       "  <tbody>\n",
       "    <tr>\n",
       "      <th>0</th>\n",
       "      <td>347.389677</td>\n",
       "      <td>0</td>\n",
       "    </tr>\n",
       "    <tr>\n",
       "      <th>1</th>\n",
       "      <td>672.360684</td>\n",
       "      <td>0</td>\n",
       "    </tr>\n",
       "    <tr>\n",
       "      <th>2</th>\n",
       "      <td>549.459884</td>\n",
       "      <td>0</td>\n",
       "    </tr>\n",
       "    <tr>\n",
       "      <th>3</th>\n",
       "      <td>-269.152801</td>\n",
       "      <td>0</td>\n",
       "    </tr>\n",
       "    <tr>\n",
       "      <th>4</th>\n",
       "      <td>643.562702</td>\n",
       "      <td>0</td>\n",
       "    </tr>\n",
       "    <tr>\n",
       "      <th>...</th>\n",
       "      <td>...</td>\n",
       "      <td>...</td>\n",
       "    </tr>\n",
       "    <tr>\n",
       "      <th>564</th>\n",
       "      <td>825.644608</td>\n",
       "      <td>0</td>\n",
       "    </tr>\n",
       "    <tr>\n",
       "      <th>565</th>\n",
       "      <td>607.435811</td>\n",
       "      <td>0</td>\n",
       "    </tr>\n",
       "    <tr>\n",
       "      <th>566</th>\n",
       "      <td>203.898289</td>\n",
       "      <td>0</td>\n",
       "    </tr>\n",
       "    <tr>\n",
       "      <th>567</th>\n",
       "      <td>612.040081</td>\n",
       "      <td>0</td>\n",
       "    </tr>\n",
       "    <tr>\n",
       "      <th>568</th>\n",
       "      <td>-475.802609</td>\n",
       "      <td>1</td>\n",
       "    </tr>\n",
       "  </tbody>\n",
       "</table>\n",
       "<p>569 rows × 2 columns</p>\n",
       "</div>"
      ],
      "text/plain": [
       "              0  diagnosis\n",
       "0    347.389677          0\n",
       "1    672.360684          0\n",
       "2    549.459884          0\n",
       "3   -269.152801          0\n",
       "4    643.562702          0\n",
       "..          ...        ...\n",
       "564  825.644608          0\n",
       "565  607.435811          0\n",
       "566  203.898289          0\n",
       "567  612.040081          0\n",
       "568 -475.802609          1\n",
       "\n",
       "[569 rows x 2 columns]"
      ]
     },
     "execution_count": 49,
     "metadata": {},
     "output_type": "execute_result"
    }
   ],
   "source": [
    "final_data = pd.concat([x_pca_df, y], axis=1)\n",
    "final_data"
   ]
  },
  {
   "cell_type": "code",
   "execution_count": 50,
   "id": "7f2a4eeb",
   "metadata": {},
   "outputs": [
    {
     "data": {
      "text/html": [
       "<div>\n",
       "<style scoped>\n",
       "    .dataframe tbody tr th:only-of-type {\n",
       "        vertical-align: middle;\n",
       "    }\n",
       "\n",
       "    .dataframe tbody tr th {\n",
       "        vertical-align: top;\n",
       "    }\n",
       "\n",
       "    .dataframe thead th {\n",
       "        text-align: right;\n",
       "    }\n",
       "</style>\n",
       "<table border=\"1\" class=\"dataframe\">\n",
       "  <thead>\n",
       "    <tr style=\"text-align: right;\">\n",
       "      <th></th>\n",
       "      <th>0</th>\n",
       "    </tr>\n",
       "  </thead>\n",
       "  <tbody>\n",
       "    <tr>\n",
       "      <th>338</th>\n",
       "      <td>-345.194200</td>\n",
       "    </tr>\n",
       "    <tr>\n",
       "      <th>427</th>\n",
       "      <td>-295.887994</td>\n",
       "    </tr>\n",
       "    <tr>\n",
       "      <th>406</th>\n",
       "      <td>145.607744</td>\n",
       "    </tr>\n",
       "    <tr>\n",
       "      <th>96</th>\n",
       "      <td>-204.294942</td>\n",
       "    </tr>\n",
       "    <tr>\n",
       "      <th>490</th>\n",
       "      <td>-188.886209</td>\n",
       "    </tr>\n",
       "    <tr>\n",
       "      <th>...</th>\n",
       "      <td>...</td>\n",
       "    </tr>\n",
       "    <tr>\n",
       "      <th>277</th>\n",
       "      <td>448.066994</td>\n",
       "    </tr>\n",
       "    <tr>\n",
       "      <th>9</th>\n",
       "      <td>-179.106626</td>\n",
       "    </tr>\n",
       "    <tr>\n",
       "      <th>359</th>\n",
       "      <td>-377.632846</td>\n",
       "    </tr>\n",
       "    <tr>\n",
       "      <th>192</th>\n",
       "      <td>-368.091092</td>\n",
       "    </tr>\n",
       "    <tr>\n",
       "      <th>559</th>\n",
       "      <td>-251.987195</td>\n",
       "    </tr>\n",
       "  </tbody>\n",
       "</table>\n",
       "<p>455 rows × 1 columns</p>\n",
       "</div>"
      ],
      "text/plain": [
       "              0\n",
       "338 -345.194200\n",
       "427 -295.887994\n",
       "406  145.607744\n",
       "96  -204.294942\n",
       "490 -188.886209\n",
       "..          ...\n",
       "277  448.066994\n",
       "9   -179.106626\n",
       "359 -377.632846\n",
       "192 -368.091092\n",
       "559 -251.987195\n",
       "\n",
       "[455 rows x 1 columns]"
      ]
     },
     "execution_count": 50,
     "metadata": {},
     "output_type": "execute_result"
    }
   ],
   "source": [
    "xf=final_data.iloc[:,:-1]\n",
    "xf\n",
    "yf=final_data.iloc[:,-1]\n",
    "yf\n",
    "x_train,x_test,y_train,y_test=train_test_split(xf,yf,test_size=0.2,random_state=0)\n",
    "x_train"
   ]
  },
  {
   "cell_type": "code",
   "execution_count": 51,
   "id": "a7b6d3e7",
   "metadata": {},
   "outputs": [
    {
     "name": "stdout",
     "output_type": "stream",
     "text": [
      "accuracy score :- 0.8947368421052632\n",
      "recall score :- 0.8947368421052632\n",
      "specification:-  0.8297872340425532\n",
      "precision score:- 0.8947368421052632\n",
      "f1 score:- 0.8947368421052632\n",
      "kappa score:- 0.7799935670633644\n"
     ]
    }
   ],
   "source": [
    "model = LogisticRegression()\n",
    "model.fit(x_train, y_train)\n",
    "y_pred = model.predict(x_test)\n",
    "cm = confusion_matrix(y_test,y_pred)\n",
    "spec = cm[0][0]/(cm[0][0]+cm[0][1])\n",
    "print('accuracy score :-',accuracy_score(y_test,y_pred))\n",
    "print('recall score :-',recall_score(y_test,y_pred,average=\"micro\"))\n",
    "print('specification:- ',spec)\n",
    "print('precision score:-',precision_score(y_test,y_pred,average=\"micro\"))\n",
    "print('f1 score:-',f1_score(y_test,y_pred,average=\"micro\"))\n",
    "print('kappa score:-',cohen_kappa_score(y_test,y_pred))"
   ]
  },
  {
   "cell_type": "markdown",
   "id": "9de381a5",
   "metadata": {},
   "source": [
    "# SVD"
   ]
  },
  {
   "cell_type": "code",
   "execution_count": 52,
   "id": "cd2c7c10",
   "metadata": {},
   "outputs": [],
   "source": [
    "from sklearn.decomposition import TruncatedSVD\n",
    "svd = TruncatedSVD(4)"
   ]
  },
  {
   "cell_type": "code",
   "execution_count": 53,
   "id": "a23dad1b",
   "metadata": {},
   "outputs": [],
   "source": [
    "x_svd = svd.fit_transform(x)\n",
    "x_train_svd,x_test_svd,y_train,y_test = train_test_split(x_svd,yf,test_size=0.2,random_state=30)"
   ]
  },
  {
   "cell_type": "code",
   "execution_count": 54,
   "id": "10a0b0fe",
   "metadata": {},
   "outputs": [],
   "source": [
    "model.fit(x_train_svd,y_train)\n",
    "y_svd_pred = model.predict(x_test_svd)"
   ]
  },
  {
   "cell_type": "code",
   "execution_count": 55,
   "id": "b5f37aea",
   "metadata": {},
   "outputs": [
    {
     "name": "stdout",
     "output_type": "stream",
     "text": [
      "accuracy score :- 0.8771929824561403\n",
      "recall score :- 0.8771929824561403\n",
      "specification:-  28.0\n",
      "precision score:- 0.8771929824561403\n",
      "f1 score:- 0.8771929824561403\n",
      "kappa score:- 0.7387033398821219\n"
     ]
    }
   ],
   "source": [
    "cm = confusion_matrix(y_test,y_pred)\n",
    "spec = cm[0][0]/cm[0][0]+cm[0][1]\n",
    "print('accuracy score :-',accuracy_score(y_test,y_svd_pred))\n",
    "print('recall score :-',recall_score(y_test,y_svd_pred,average=\"micro\"))\n",
    "print('specification:- ',spec)\n",
    "print('precision score:-',precision_score(y_test,y_svd_pred,average=\"micro\"))\n",
    "print('f1 score:-',f1_score(y_test,y_svd_pred,average=\"micro\"))\n",
    "print('kappa score:-',cohen_kappa_score(y_test,y_svd_pred))"
   ]
  },
  {
   "cell_type": "markdown",
   "id": "7d4d91ac",
   "metadata": {},
   "source": [
    "# LDA"
   ]
  },
  {
   "cell_type": "code",
   "execution_count": 56,
   "id": "2d11b745",
   "metadata": {},
   "outputs": [],
   "source": [
    "from sklearn.discriminant_analysis import LinearDiscriminantAnalysis\n",
    "n_classes = len(np.unique(y))\n",
    "n_components = min(19, n_classes - 1, x.shape[1])\n",
    "lda = LinearDiscriminantAnalysis(n_components=n_components)"
   ]
  },
  {
   "cell_type": "code",
   "execution_count": 57,
   "id": "0fc58094",
   "metadata": {},
   "outputs": [],
   "source": [
    "x_lda = lda.fit_transform(x,y)\n",
    "x_train_lda,x_test_lda,y_train,y_test = train_test_split(x_lda,y,test_size=0.2,random_state=0)"
   ]
  },
  {
   "cell_type": "code",
   "execution_count": 58,
   "id": "91eb20a4",
   "metadata": {},
   "outputs": [],
   "source": [
    "model.fit(x_train_lda,y_train)\n",
    "y_pred_lda = model.predict(x_test_lda)"
   ]
  },
  {
   "cell_type": "code",
   "execution_count": 59,
   "id": "808ae2df",
   "metadata": {},
   "outputs": [
    {
     "name": "stdout",
     "output_type": "stream",
     "text": [
      "accuracy score :- 0.9122807017543859\n",
      "recall score :- 0.9122807017543859\n",
      "specification:-  0.8297872340425532\n",
      "precision score:- 0.9122807017543859\n",
      "f1 score:- 0.9122807017543859\n",
      "kappa score:- 0.8201325339223731\n"
     ]
    }
   ],
   "source": [
    "cm = confusion_matrix(y_test,y_pred)\n",
    "spec = cm[0][0]/(cm[0][0]+cm[0][1])\n",
    "print('accuracy score :-',accuracy_score(y_test,y_pred_lda))\n",
    "print('recall score :-',recall_score(y_test,y_pred_lda,average=\"micro\"))\n",
    "print('specification:- ',spec)\n",
    "print('precision score:-',precision_score(y_test,y_pred_lda,average=\"micro\"))\n",
    "print('f1 score:-',f1_score(y_test,y_pred_lda,average=\"micro\"))\n",
    "print('kappa score:-',cohen_kappa_score(y_test,y_pred_lda))"
   ]
  }
 ],
 "metadata": {
  "kernelspec": {
   "display_name": "Python 3 (ipykernel)",
   "language": "python",
   "name": "python3"
  },
  "language_info": {
   "codemirror_mode": {
    "name": "ipython",
    "version": 3
   },
   "file_extension": ".py",
   "mimetype": "text/x-python",
   "name": "python",
   "nbconvert_exporter": "python",
   "pygments_lexer": "ipython3",
   "version": "3.9.13"
  }
 },
 "nbformat": 4,
 "nbformat_minor": 5
}
